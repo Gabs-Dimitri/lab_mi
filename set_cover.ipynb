{
 "cells": [
  {
   "cell_type": "code",
   "execution_count": 2,
   "metadata": {},
   "outputs": [],
   "source": [
    "def read_set_cover_instance(file_path):\n",
    "    with open(file_path, 'r') as file:\n",
    "        e = int(file.readline().strip())\n",
    "        n = int(file.readline().strip())\n",
    "        E = []\n",
    "        subsets = []\n",
    "        for _ in range(n):\n",
    "            subset = list(map(int, file.readline().split()))\n",
    "            subsets.append(subset)\n",
    "        for i in range(e):\n",
    "            E.append(i)\n",
    "    return E, subsets"
   ]
  },
  {
   "cell_type": "code",
   "execution_count": 3,
   "metadata": {},
   "outputs": [],
   "source": [
    "def find_last_occurrences(sets):\n",
    "    position = {}\n",
    "    for i, set in enumerate(sets, start=1):\n",
    "        for element in set:\n",
    "            if element not in position:\n",
    "                position[element] = []\n",
    "            position[element].append(i)\n",
    "    return position"
   ]
  },
  {
   "cell_type": "code",
   "execution_count": 4,
   "metadata": {},
   "outputs": [],
   "source": [
    "class node:\n",
    "  def __init__(self, estado, valor_objetivo, solucao):\n",
    "    self.estado = estado                                # estados\n",
    "    self.valor_objetivo = valor_objetivo                # valor da função objetivo\n",
    "    self.solucao = solucao                              # vetor solução"
   ]
  },
  {
   "cell_type": "code",
   "execution_count": 5,
   "metadata": {},
   "outputs": [],
   "source": [
    "# Lendo os conjuntos do arquivo\n",
    "file = \"A1 - instancias e solucoes/instancia1.txt\"  # Substitua pelo caminho do seu arquivo\n",
    "E, subsets = read_set_cover_instance(file)\n",
    "\n",
    "# Encontrando o last de cada elemento\n",
    "last = find_last_occurrences(subsets)"
   ]
  },
  {
   "cell_type": "code",
   "execution_count": 6,
   "metadata": {},
   "outputs": [
    {
     "name": "stdout",
     "output_type": "stream",
     "text": [
      "E =  [0, 1, 2, 3, 4, 5, 6, 7] e subconjuntos =  [[0, 3], [0, 1, 3, 4, 5, 7], [3, 6, 7], [0, 3, 5], [1, 2, 5, 7], [0, 1, 3, 4, 5, 7]]\n",
      "Last de 0 = A6\n",
      "Last de 3 = A6\n",
      "Last de 1 = A6\n",
      "Last de 4 = A6\n",
      "Last de 5 = A6\n",
      "Last de 7 = A6\n",
      "Last de 6 = A3\n",
      "Last de 2 = A5\n"
     ]
    }
   ],
   "source": [
    "# Imprimindo E e subconjuntos\n",
    "print('E = ', E, 'e subconjuntos = ', subsets)\n",
    "\n",
    "# Imprimindo last dos elementos\n",
    "for elemento, posicao in last.items():\n",
    "    print(f\"Last de {elemento} = A{posicao[-1]}\")"
   ]
  }
 ],
 "metadata": {
  "kernelspec": {
   "display_name": "Python 3",
   "language": "python",
   "name": "python3"
  },
  "language_info": {
   "codemirror_mode": {
    "name": "ipython",
    "version": 3
   },
   "file_extension": ".py",
   "mimetype": "text/x-python",
   "name": "python",
   "nbconvert_exporter": "python",
   "pygments_lexer": "ipython3",
   "version": "3.9.6"
  }
 },
 "nbformat": 4,
 "nbformat_minor": 2
}
