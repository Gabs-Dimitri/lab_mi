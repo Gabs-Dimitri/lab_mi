{
 "cells": [
  {
   "cell_type": "code",
   "execution_count": 46,
   "metadata": {},
   "outputs": [],
   "source": [
    "def read_set_cover_instance(file_path):\n",
    "    with open(file_path, 'r') as file:\n",
    "        e = int(file.readline().strip())\n",
    "        n = int(file.readline().strip())\n",
    "        E = []\n",
    "        subsets = []\n",
    "        for _ in range(n):\n",
    "            subset = list(map(int, file.readline().split()))\n",
    "            subsets.append(subset)\n",
    "        for i in range(e):\n",
    "            E.append(i)\n",
    "    return E, subsets"
   ]
  },
  {
   "cell_type": "code",
   "execution_count": 47,
   "metadata": {},
   "outputs": [],
   "source": [
    "def find_last_occurrences(sets):\n",
    "    position = {}\n",
    "    for i, set in enumerate(sets, start=1):\n",
    "        for element in set:\n",
    "            if element not in position:\n",
    "                position[element] = []\n",
    "            position[element].append(i)\n",
    "    return position\n",
    "\n",
    "def last(element, positions):\n",
    "    if element in positions:\n",
    "        return positions[element][-1]\n",
    "    return None"
   ]
  },
  {
   "cell_type": "code",
   "execution_count": 48,
   "metadata": {},
   "outputs": [],
   "source": [
    "class node:\n",
    "  def __init__(self, estado, valor_objetivo, solucao):\n",
    "    self.estado = estado                                # estados\n",
    "    self.valor_objetivo = valor_objetivo                # valor da função objetivo\n",
    "    self.solucao = solucao                              # vetor solução"
   ]
  },
  {
   "cell_type": "code",
   "execution_count": 49,
   "metadata": {},
   "outputs": [],
   "source": [
    "# Lendo os conjuntos do arquivo\n",
    "# file = \"A1 - instancias e solucoes/instancia1.txt\"  # Substitua pelo caminho do seu arquivo\n",
    "# E, subsets = read_set_cover_instance(file)\n",
    "# print(E)\n",
    "# print(subsets)\n",
    "\n",
    "# Encontrando o last de cada elemento\n",
    "# positions = find_last_occurrences(subsets)\n"
   ]
  },
  {
   "cell_type": "code",
   "execution_count": 50,
   "metadata": {},
   "outputs": [],
   "source": [
    "# # Imprimindo E e subconjuntos\n",
    "# print('E = ', E, 'e subconjuntos = ', subsets)\n",
    "\n",
    "# # Imprimindo last dos elementos\n",
    "# for elemento, posicao in last.items():\n",
    "#     print(f\"Last de {elemento} = A{posicao[-1]}\")"
   ]
  },
  {
   "cell_type": "code",
   "execution_count": 54,
   "metadata": {},
   "outputs": [
    {
     "name": "stdout",
     "output_type": "stream",
     "text": [
      "Solution Vector: 0\n",
      "Objective Function Value: []\n"
     ]
    },
    {
     "ename": "TypeError",
     "evalue": "'int' object is not iterable",
     "output_type": "error",
     "traceback": [
      "\u001b[1;31m---------------------------------------------------------------------------\u001b[0m",
      "\u001b[1;31mTypeError\u001b[0m                                 Traceback (most recent call last)",
      "\u001b[1;32m~\\AppData\\Local\\Temp/ipykernel_8812/3174068902.py\u001b[0m in \u001b[0;36m<module>\u001b[1;34m\u001b[0m\n\u001b[0;32m     80\u001b[0m \u001b[1;33m\u001b[0m\u001b[0m\n\u001b[0;32m     81\u001b[0m \u001b[1;32mif\u001b[0m \u001b[0m__name__\u001b[0m \u001b[1;33m==\u001b[0m \u001b[1;34m\"__main__\"\u001b[0m\u001b[1;33m:\u001b[0m\u001b[1;33m\u001b[0m\u001b[1;33m\u001b[0m\u001b[0m\n\u001b[1;32m---> 82\u001b[1;33m     \u001b[0mmain\u001b[0m\u001b[1;33m(\u001b[0m\u001b[1;33m)\u001b[0m\u001b[1;33m\u001b[0m\u001b[1;33m\u001b[0m\u001b[0m\n\u001b[0m",
      "\u001b[1;32m~\\AppData\\Local\\Temp/ipykernel_8812/3174068902.py\u001b[0m in \u001b[0;36mmain\u001b[1;34m()\u001b[0m\n\u001b[0;32m     18\u001b[0m         \u001b[1;32mfor\u001b[0m \u001b[0mno\u001b[0m \u001b[1;32min\u001b[0m \u001b[0mCA\u001b[0m\u001b[1;33m:\u001b[0m\u001b[1;33m\u001b[0m\u001b[1;33m\u001b[0m\u001b[0m\n\u001b[0;32m     19\u001b[0m             \u001b[1;31m# transicao xj=0:\u001b[0m\u001b[1;33m\u001b[0m\u001b[1;33m\u001b[0m\u001b[1;33m\u001b[0m\u001b[0m\n\u001b[1;32m---> 20\u001b[1;33m             \u001b[0mnovo_estado\u001b[0m \u001b[1;33m=\u001b[0m \u001b[0mlist\u001b[0m\u001b[1;33m(\u001b[0m\u001b[0mno\u001b[0m\u001b[1;33m.\u001b[0m\u001b[0mestado\u001b[0m\u001b[1;33m)\u001b[0m\u001b[1;33m\u001b[0m\u001b[1;33m\u001b[0m\u001b[0m\n\u001b[0m\u001b[0;32m     21\u001b[0m \u001b[1;33m\u001b[0m\u001b[0m\n\u001b[0;32m     22\u001b[0m             \u001b[0minviavel\u001b[0m \u001b[1;33m=\u001b[0m \u001b[1;32mFalse\u001b[0m\u001b[1;33m\u001b[0m\u001b[1;33m\u001b[0m\u001b[0m\n",
      "\u001b[1;31mTypeError\u001b[0m: 'int' object is not iterable"
     ]
    }
   ],
   "source": [
    "# Assuming 'A' represents the subsets and 'last' represents the function to find the last occurrences of elements\n",
    "# You'll need to adjust this part based on the structure of your data\n",
    "# E:\\DD_Set_Cover\\A1 - instancias e solucoes\\instancia1.txt\n",
    "def main():\n",
    "    E, subsets = read_set_cover_instance('conjunto.txt')\n",
    "    A = subsets  # Assuming subsets represent the sets A[j]\n",
    "\n",
    "    n = len(E)\n",
    "    m = len(A)\n",
    "    ei = [i for i in range(n)]\n",
    "\n",
    "    CA = [node(ei, [], 0)]  # Camada atual com o estado, vetor solução e valorFO   \n",
    "    CS = [node(0,[],0)]             # Camada seguinte que será criada\n",
    "\n",
    "    positions = find_last_occurrences(subsets)\n",
    "    \n",
    "    for j in range(2, m):\n",
    "        for no in CA:\n",
    "            # transicao xj=0:\n",
    "            novo_estado = list(no.estado)\n",
    "\n",
    "            inviavel = False\n",
    "            for e in no.estado:\n",
    "                if last(e, positions) == j:  # Assuming last(e) gives the last occurrence of 'e'\n",
    "                    inviavel = True\n",
    "                    break\n",
    "\n",
    "            if not inviavel:\n",
    "                repetido = False\n",
    "                for algum_no in CS:\n",
    "                    if algum_no.estado == novo_estado:\n",
    "                        repetido = True\n",
    "                        if algum_no.valor_objetivo > no.valor_objetivo:\n",
    "                            algum_no.valor_objetivo = no.valor_objetivo\n",
    "                            algum_no.solucao = list(no.solucao)\n",
    "                            algum_no.solucao.append(0)\n",
    "                        break\n",
    "                if not repetido:\n",
    "                    if isinstance(no.solucao, int):\n",
    "                        nova_solucao = [no.solucao]\n",
    "                    else:\n",
    "                        nova_solucao = list(no.solucao)\n",
    "                        nova_solucao.append(0)\n",
    "                        CS.append(node(novo_estado, nova_solucao, no.valor_objetivo))  \n",
    "                    # nova_solucao = list(no.solucao)\n",
    "                    # nova_solucao.append(0)\n",
    "                    # CS.append(node(novo_estado, nova_solucao, no.valor_objetivo))\n",
    "\n",
    "            # transicao xj=1:\n",
    "            novo_estado = list(no.estado)\n",
    "            for e in A[j]:\n",
    "                if e in novo_estado:\n",
    "                    novo_estado.remove(e)\n",
    "\n",
    "            repetido = False\n",
    "            for algum_no in CS:\n",
    "                if algum_no.estado == novo_estado:\n",
    "                    repetido = True\n",
    "                    if algum_no.valor_objetivo > no.valor_objetivo + 1:\n",
    "                        algum_no.valor_objetivo = no.valor_objetivo + 1\n",
    "                        algum_no.solucao = list(no.solucao)\n",
    "                        algum_no.solucao.append(1)\n",
    "                    break\n",
    "            if not repetido:\n",
    "                if isinstance(no.solucao, int):\n",
    "                    nova_solucao = [no.solucao]\n",
    "                else:\n",
    "                    nova_solucao = list(no.solucao)\n",
    "                    nova_solucao.append(1)\n",
    "                    CS.append(node(novo_estado, nova_solucao, no.valor_objetivo + 1))\n",
    "                # nova_solucao = list(no.solucao)\n",
    "                # nova_solucao.append(1)\n",
    "                # CS.append((novo_estado, nova_solucao, no.valor_objetivo + 1))\n",
    "\n",
    "        CA = CS\n",
    "        CS = [node(0, [], 0)]\n",
    "        for algum_no in CA:\n",
    "            print(\"Solution Vector:\", algum_no.solucao)\n",
    "            print(\"Objective Function Value:\", algum_no.valor_objetivo)\n",
    "\n",
    "if __name__ == \"__main__\":\n",
    "    main()\n"
   ]
  },
  {
   "cell_type": "code",
   "execution_count": null,
   "metadata": {},
   "outputs": [],
   "source": []
  }
 ],
 "metadata": {
  "kernelspec": {
   "display_name": "Python 3",
   "language": "python",
   "name": "python3"
  },
  "language_info": {
   "codemirror_mode": {
    "name": "ipython",
    "version": 3
   },
   "file_extension": ".py",
   "mimetype": "text/x-python",
   "name": "python",
   "nbconvert_exporter": "python",
   "pygments_lexer": "ipython3",
   "version": "3.9.6"
  }
 },
 "nbformat": 4,
 "nbformat_minor": 2
}
