{
 "cells": [
  {
   "cell_type": "code",
   "execution_count": 2,
   "metadata": {},
   "outputs": [],
   "source": [
    "def read_set_cover_instance(file_path):\n",
    "    with open(file_path, 'r') as file:\n",
    "        e = int(file.readline().strip())\n",
    "        n = int(file.readline().strip())\n",
    "        E = []\n",
    "        subsets = []\n",
    "        for _ in range(n):\n",
    "            subset = list(map(int, file.readline().split()))\n",
    "            subsets.append(subset)\n",
    "        for i in range(e):\n",
    "            E.append(i)\n",
    "    return E, subsets"
   ]
  },
  {
   "cell_type": "code",
   "execution_count": 3,
   "metadata": {},
   "outputs": [],
   "source": [
    "def find_last_occurrences(sets):\n",
    "    position = {}\n",
    "    for i, set in enumerate(sets, start=1):\n",
    "        for element in set:\n",
    "            if element not in position:\n",
    "                position[element] = []\n",
    "            position[element].append(i)\n",
    "    return position\n",
    "\n",
    "def last(element, positions):\n",
    "    if element in positions:\n",
    "        return positions[element][-1]\n",
    "    return None"
   ]
  },
  {
   "cell_type": "code",
   "execution_count": 4,
   "metadata": {},
   "outputs": [],
   "source": [
    "class node:\n",
    "  def __init__(self, estado, solucao, valor_objetivo):\n",
    "    self.estado = estado                                # estados\n",
    "    self.solucao = solucao                              # vetor solução\n",
    "    self.valor_objetivo = valor_objetivo                # valor da função objetivo\n"
   ]
  },
  {
   "cell_type": "code",
   "execution_count": 20,
   "metadata": {},
   "outputs": [
    {
     "name": "stdout",
     "output_type": "stream",
     "text": [
      "Best Solution Vector: [0, 0, 1, 0, 1, 1]\n",
      "Best Objective Function Value: 3\n",
      "Subsets:\n",
      "[3, 6, 7]\n",
      "[1, 2, 5, 7]\n",
      "[0, 1, 3, 4, 5, 7]\n"
     ]
    }
   ],
   "source": [
    "def main():\n",
    "    E, subsets = read_set_cover_instance('E:\\DD_Set_Cover\\A1 - instancias e solucoes\\instancia1.txt')\n",
    "    A = subsets  # Assuming subsets represent the sets A[j]\n",
    "\n",
    "    n = len(E)\n",
    "    m = len(A)\n",
    "    ei = [i for i in range(n)]\n",
    "\n",
    "    CA = [node(ei, [], 0)]  # Camada atual com o estado, vetor solução e valorFO   \n",
    "    CS = []             # Camada seguinte que será criada\n",
    "\n",
    "    positions = find_last_occurrences(subsets)\n",
    "    \n",
    "    best_solution = None\n",
    "    best_value = float('inf')\n",
    "\n",
    "    for j in range(m):\n",
    "        for no in CA:\n",
    "            # transicao xj=0:\n",
    "            if isinstance(no.estado, int):  # Check if estado is an integer\n",
    "                novo_estado = [no.estado]  # Convert it to a list\n",
    "            else:\n",
    "                novo_estado = list(no.estado)\n",
    "\n",
    "            if isinstance(no.estado, list):  # Check if estado is a list\n",
    "                inviavel = any(last(e, positions) == j for e in no.estado)  # Assuming last(e) gives the last occurrence of 'e'\n",
    "            else:\n",
    "                inviavel = False\n",
    "\n",
    "            if not inviavel:\n",
    "                repetido = any(algum_no.estado == novo_estado for algum_no in CS)\n",
    "                if not repetido:\n",
    "                    if isinstance(no.solucao, int):  # Check if solucao is an integer\n",
    "                        nova_solucao = [no.solucao]  # Convert it to a list\n",
    "                    else:\n",
    "                        nova_solucao = list(no.solucao)\n",
    "                    nova_solucao.append(0)\n",
    "                    CS.append(node(novo_estado, nova_solucao, no.valor_objetivo))\n",
    "\n",
    "            # transicao xj=1:\n",
    "            novo_estado = list(no.estado)\n",
    "            for e in A[j]:\n",
    "                if e in novo_estado:\n",
    "                    novo_estado.remove(e)\n",
    "\n",
    "            repetido = any(algum_no.estado == novo_estado for algum_no in CS)\n",
    "            if not repetido:\n",
    "                if isinstance(no.solucao, int):  # Check if solucao is an integer\n",
    "                    nova_solucao = [no.solucao]  # Convert it to a list\n",
    "                else:\n",
    "                    nova_solucao = list(no.solucao)\n",
    "                nova_solucao.append(1)\n",
    "                CS.append(node(novo_estado, nova_solucao, no.valor_objetivo + 1))\n",
    "\n",
    "        CA = CS  # Atualiza CA com os novos nós de CS\n",
    "        CS = []  # Limpa CS para a próxima iteração\n",
    "\n",
    "    for nos in CA:\n",
    "        if len(nos.estado) == 0 and nos.valor_objetivo < best_value:\n",
    "            best_solution = nos\n",
    "            best_value = nos.valor_objetivo\n",
    "\n",
    "    print(\"Best Solution Vector:\", best_solution.solucao)\n",
    "    print(\"Best Objective Function Value:\", best_solution.valor_objetivo)\n",
    "\n",
    "    print(\"Subsets:\")\n",
    "    for i, subset in enumerate(A):\n",
    "        if best_solution.solucao[i] == 1:\n",
    "            print(subset)\n",
    "\n",
    "if __name__ == \"__main__\":\n",
    "    main()"
   ]
  },
  {
   "cell_type": "code",
   "execution_count": null,
   "metadata": {},
   "outputs": [],
   "source": []
  }
 ],
 "metadata": {
  "kernelspec": {
   "display_name": "Python 3",
   "language": "python",
   "name": "python3"
  },
  "language_info": {
   "codemirror_mode": {
    "name": "ipython",
    "version": 3
   },
   "file_extension": ".py",
   "mimetype": "text/x-python",
   "name": "python",
   "nbconvert_exporter": "python",
   "pygments_lexer": "ipython3",
   "version": "3.9.6"
  }
 },
 "nbformat": 4,
 "nbformat_minor": 2
}
