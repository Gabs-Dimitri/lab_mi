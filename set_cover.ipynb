{
 "cells": [
  {
   "cell_type": "code",
   "execution_count": 9,
   "metadata": {},
   "outputs": [],
   "source": [
    "def read_set_cover_instance(file_path):\n",
    "    with open(file_path, 'r') as file:\n",
    "        E = int(file.readline().strip())\n",
    "        n = int(file.readline().strip())\n",
    "        subsets = []\n",
    "        for _ in range(n):\n",
    "            subset = list(map(int, file.readline().split()))\n",
    "            subsets.append(subset)\n",
    "    return E, subsets"
   ]
  },
  {
   "cell_type": "code",
   "execution_count": 11,
   "metadata": {},
   "outputs": [
    {
     "data": {
      "text/plain": [
       "(6, [[0, 3], [1, 2, 3, 5], [0, 1, 2, 4], [3, 4, 5]])"
      ]
     },
     "execution_count": 11,
     "metadata": {},
     "output_type": "execute_result"
    }
   ],
   "source": [
    "file = 'conjunto.txt'\n",
    "read_set_cover_instance(file)"
   ]
  },
  {
   "cell_type": "code",
   "execution_count": null,
   "metadata": {},
   "outputs": [],
   "source": []
  }
 ],
 "metadata": {
  "kernelspec": {
   "display_name": "Python 3",
   "language": "python",
   "name": "python3"
  },
  "language_info": {
   "codemirror_mode": {
    "name": "ipython",
    "version": 3
   },
   "file_extension": ".py",
   "mimetype": "text/x-python",
   "name": "python",
   "nbconvert_exporter": "python",
   "pygments_lexer": "ipython3",
   "version": "3.9.6"
  }
 },
 "nbformat": 4,
 "nbformat_minor": 2
}
